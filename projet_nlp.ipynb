{
 "cells": [
  {
   "cell_type": "code",
   "execution_count": 1,
   "metadata": {},
   "outputs": [],
   "source": [
    "import sys\n",
    "sys.path.append('/usr/local/lib/python3.7/site-packages/')\n",
    "\n",
    "import warnings\n",
    "warnings.filterwarnings('ignore')\n",
    "import pandas as pd\n",
    "import numpy as np\n",
    "import matplotlib.pyplot as plt"
   ]
  },
  {
   "cell_type": "markdown",
   "metadata": {},
   "source": [
    "This project uses the data from kaggle: https://www.kaggle.com/sid321axn/amazon-alexa-reviews"
   ]
  },
  {
   "cell_type": "markdown",
   "metadata": {},
   "source": [
    "# 1. Dataset"
   ]
  },
  {
   "cell_type": "code",
   "execution_count": 2,
   "metadata": {},
   "outputs": [
    {
     "name": "stdout",
     "output_type": "stream",
     "text": [
      "data shape: (3150, 5)\n"
     ]
    },
    {
     "data": {
      "text/html": [
       "<div>\n",
       "<style scoped>\n",
       "    .dataframe tbody tr th:only-of-type {\n",
       "        vertical-align: middle;\n",
       "    }\n",
       "\n",
       "    .dataframe tbody tr th {\n",
       "        vertical-align: top;\n",
       "    }\n",
       "\n",
       "    .dataframe thead th {\n",
       "        text-align: right;\n",
       "    }\n",
       "</style>\n",
       "<table border=\"1\" class=\"dataframe\">\n",
       "  <thead>\n",
       "    <tr style=\"text-align: right;\">\n",
       "      <th></th>\n",
       "      <th>rating</th>\n",
       "      <th>date</th>\n",
       "      <th>variation</th>\n",
       "      <th>verified_reviews</th>\n",
       "      <th>feedback</th>\n",
       "    </tr>\n",
       "  </thead>\n",
       "  <tbody>\n",
       "    <tr>\n",
       "      <th>0</th>\n",
       "      <td>5</td>\n",
       "      <td>31-Jul-18</td>\n",
       "      <td>Charcoal Fabric</td>\n",
       "      <td>Love my Echo!</td>\n",
       "      <td>1</td>\n",
       "    </tr>\n",
       "    <tr>\n",
       "      <th>1</th>\n",
       "      <td>5</td>\n",
       "      <td>31-Jul-18</td>\n",
       "      <td>Charcoal Fabric</td>\n",
       "      <td>Loved it!</td>\n",
       "      <td>1</td>\n",
       "    </tr>\n",
       "    <tr>\n",
       "      <th>2</th>\n",
       "      <td>4</td>\n",
       "      <td>31-Jul-18</td>\n",
       "      <td>Walnut Finish</td>\n",
       "      <td>\"Sometimes while playing a game, you can answe...</td>\n",
       "      <td>1</td>\n",
       "    </tr>\n",
       "  </tbody>\n",
       "</table>\n",
       "</div>"
      ],
      "text/plain": [
       "   rating       date         variation  \\\n",
       "0       5  31-Jul-18  Charcoal Fabric    \n",
       "1       5  31-Jul-18  Charcoal Fabric    \n",
       "2       4  31-Jul-18    Walnut Finish    \n",
       "\n",
       "                                    verified_reviews  feedback  \n",
       "0                                      Love my Echo!         1  \n",
       "1                                          Loved it!         1  \n",
       "2  \"Sometimes while playing a game, you can answe...         1  "
      ]
     },
     "execution_count": 2,
     "metadata": {},
     "output_type": "execute_result"
    }
   ],
   "source": [
    "data = pd.read_csv('amazon_alexa.tsv', delimiter='\\t', quoting=3)\n",
    "print('data shape: {}'.format(data.shape))\n",
    "data.head(3)"
   ]
  },
  {
   "cell_type": "code",
   "execution_count": 3,
   "metadata": {
    "scrolled": true
   },
   "outputs": [
    {
     "name": "stdout",
     "output_type": "stream",
     "text": [
      "<class 'pandas.core.frame.DataFrame'>\n",
      "RangeIndex: 3150 entries, 0 to 3149\n",
      "Data columns (total 5 columns):\n",
      " #   Column            Non-Null Count  Dtype \n",
      "---  ------            --------------  ----- \n",
      " 0   rating            3150 non-null   int64 \n",
      " 1   date              3150 non-null   object\n",
      " 2   variation         3150 non-null   object\n",
      " 3   verified_reviews  3150 non-null   object\n",
      " 4   feedback          3150 non-null   int64 \n",
      "dtypes: int64(2), object(3)\n",
      "memory usage: 123.2+ KB\n"
     ]
    }
   ],
   "source": [
    "data.info()"
   ]
  },
  {
   "cell_type": "code",
   "execution_count": 4,
   "metadata": {
    "scrolled": false
   },
   "outputs": [
    {
     "data": {
      "text/plain": [
       "'\"Great fun getting to know all the functions of this product.  WOW -- family fun and homework help.  Talking with other grandchildren,who also have an Echo, is a HUGE bonus.  Can\\'t wait to learn more and more and more\"'"
      ]
     },
     "execution_count": 4,
     "metadata": {},
     "output_type": "execute_result"
    }
   ],
   "source": [
    "#Have a look at a review.\n",
    "data['verified_reviews'].iloc[100]"
   ]
  },
  {
   "cell_type": "markdown",
   "metadata": {},
   "source": [
    "#### Feedback & rating"
   ]
  },
  {
   "cell_type": "code",
   "execution_count": 5,
   "metadata": {
    "scrolled": false
   },
   "outputs": [
    {
     "data": {
      "text/plain": [
       "1    2893\n",
       "0     257\n",
       "Name: feedback, dtype: int64"
      ]
     },
     "execution_count": 5,
     "metadata": {},
     "output_type": "execute_result"
    }
   ],
   "source": [
    "data.feedback.value_counts()"
   ]
  },
  {
   "cell_type": "markdown",
   "metadata": {},
   "source": [
    "There are five different rankings from 1 to 5. Most people have scored 5 which means they are satisfied with the product. The lower the score is, the costumers are less satisfied with the product."
   ]
  },
  {
   "cell_type": "code",
   "execution_count": 6,
   "metadata": {
    "scrolled": false
   },
   "outputs": [
    {
     "data": {
      "image/png": "[encoded data removed]",
      "text/plain": [
       "<Figure size 432x288 with 1 Axes>"
      ]
     },
     "metadata": {
      "needs_background": "light"
     },
     "output_type": "display_data"
    }
   ],
   "source": [
    "import seaborn as sns\n",
    "sns.countplot(data['rating'], palette='Accent')\n",
    "plt.title('Ratings')\n",
    "plt.show()"
   ]
  },
  {
   "cell_type": "markdown",
   "metadata": {},
   "source": [
    "# 2. Text preprocessing"
   ]
  },
  {
   "cell_type": "markdown",
   "metadata": {},
   "source": [
    "#### remove punctuations and other speacial symbols"
   ]
  },
  {
   "cell_type": "code",
   "execution_count": 7,
   "metadata": {},
   "outputs": [],
   "source": [
    "#define a function to transform the verified_reviews into standard words.\n",
    "from nltk.corpus import stopwords\n",
    "import re\n",
    "from nltk.tokenize import TweetTokenizer, TreebankWordTokenizer\n",
    "\n",
    "def trans_review(reviews, remove_stops=True, token='Tweet'):\n",
    "    tokenizer = TweetTokenizer() if token == 'Tweet' else TreebankWordTokenizer()\n",
    "    stops = set(stopwords.words('english'))#obtain set(stopwords) to save time.\n",
    "        \n",
    "    token_sents = []\n",
    "    for sent in reviews:\n",
    "        tokens = tokenizer.tokenize(sent)\n",
    "        tokens = [re.sub('[^a-zA-Z]', ' ', _) for _ in tokens]#keep only the letters.\n",
    "        tokens = [re.sub('\\s+', ' ', _) for _ in tokens]\n",
    "        tokens = [_.lower() for _ in tokens if _ != ' ']#transform into lower cases.\n",
    "        if remove_stops:\n",
    "            tokens = [w for w in tokens if w not in stops]#remove stopwords.\n",
    "        token_sents.append(tokens)\n",
    "\n",
    "    return token_sents"
   ]
  },
  {
   "cell_type": "code",
   "execution_count": 8,
   "metadata": {
    "scrolled": true
   },
   "outputs": [
    {
     "name": "stdout",
     "output_type": "stream",
     "text": [
      "Not much features.\n",
      "============================================================\n",
      "[['much', 'features']]\n"
     ]
    }
   ],
   "source": [
    "dt_ex = data[data['feedback']==0].iloc[2]\n",
    "\n",
    "print(dt_ex['verified_reviews'])\n",
    "print('='*60)\n",
    "print(trans_review([dt_ex['verified_reviews']]))"
   ]
  },
  {
   "cell_type": "markdown",
   "metadata": {},
   "source": [
    "#### Deal with the negation words "
   ]
  },
  {
   "cell_type": "markdown",
   "metadata": {},
   "source": [
    "We've found that it removes the word 'not' which is very important for analysing the sentiment. Clearly 'good' and 'not very good' indicate opposite sentiments. "
   ]
  },
  {
   "cell_type": "markdown",
   "metadata": {},
   "source": [
    "So before cleaning the words, we firstly find the positions of the negation words (not, isn't, didn't, etc.)  and we add a tag NOT to every word between a negation word and its nearest punctuation, i.e. we change 'didn't like it' => 'didn't likenot itnot' => 'likenot itnot'. We call the latter the standard negation format."
   ]
  },
  {
   "cell_type": "code",
   "execution_count": 9,
   "metadata": {},
   "outputs": [],
   "source": [
    "#generate a list of possible negation words.\n",
    "neg_words = {\"don't\", \"never\",  \"nothing\", \"nowhere\", \"noone\", \"none\", \"not\",\n",
    "              \"hasn't\", \"hadn't\", \"can't\", \"couldn't\", \"shouldn't\", \"won't\",\n",
    "              \"wouldn't\", \"don't\", \"doesn't\", \"didn't\", \"isn't\", \"aren't\", \"ain't\"}\n",
    "\n",
    "def neg_trans(sentence):\n",
    "    sentence = sentence.lower()\n",
    "    punct = re.findall(r'[.:;!?]', sentence)\n",
    "\n",
    "    for neg in neg_words:\n",
    "        #find the position of negation words and transform the sentence to standard negation format.\n",
    "        pos_word = sentence.find(neg)\n",
    "        if pos_word == -1:\n",
    "            continue\n",
    "            \n",
    "        #find the position of the nearest punctuations.\n",
    "        if punct:\n",
    "            pos_punct = sentence.find(punct[0])\n",
    "            pos_punct = pos_punct if pos_punct else  -1\n",
    "        else:\n",
    "            pos_punct = -1\n",
    "\n",
    "        s1 =  re.sub(r'\\b([A-Za-z\\']+)\\b', r'\\1NOT',#The part between the neg word and the nearest puntuation.\n",
    "                               sentence[(pos_word+len(neg)+1):pos_punct])\n",
    "        s2 = sentence[pos_punct:]#The part after the nearest punctuation.\n",
    "        sentence = s1 + s2\n",
    "    return sentence"
   ]
  },
  {
   "cell_type": "code",
   "execution_count": 10,
   "metadata": {
    "scrolled": true
   },
   "outputs": [
    {
     "name": "stdout",
     "output_type": "stream",
     "text": [
      "Not much features.\n",
      "============================================================\n",
      "muchNOT featuresNOT.\n"
     ]
    }
   ],
   "source": [
    "print(dt_ex['verified_reviews'])\n",
    "print('='*60)\n",
    "print(neg_trans(dt_ex['verified_reviews']))"
   ]
  },
  {
   "cell_type": "code",
   "execution_count": 11,
   "metadata": {
    "scrolled": false
   },
   "outputs": [
    {
     "name": "stdout",
     "output_type": "stream",
     "text": [
      "['muchnot', 'featuresnot']\n"
     ]
    },
    {
     "data": {
      "text/html": [
       "<div>\n",
       "<style scoped>\n",
       "    .dataframe tbody tr th:only-of-type {\n",
       "        vertical-align: middle;\n",
       "    }\n",
       "\n",
       "    .dataframe tbody tr th {\n",
       "        vertical-align: top;\n",
       "    }\n",
       "\n",
       "    .dataframe thead th {\n",
       "        text-align: right;\n",
       "    }\n",
       "</style>\n",
       "<table border=\"1\" class=\"dataframe\">\n",
       "  <thead>\n",
       "    <tr style=\"text-align: right;\">\n",
       "      <th></th>\n",
       "      <th>rating</th>\n",
       "      <th>date</th>\n",
       "      <th>variation</th>\n",
       "      <th>verified_reviews</th>\n",
       "      <th>feedback</th>\n",
       "      <th>clean_review</th>\n",
       "    </tr>\n",
       "  </thead>\n",
       "  <tbody>\n",
       "    <tr>\n",
       "      <th>0</th>\n",
       "      <td>5</td>\n",
       "      <td>31-Jul-18</td>\n",
       "      <td>Charcoal Fabric</td>\n",
       "      <td>Love my Echo!</td>\n",
       "      <td>1</td>\n",
       "      <td>[love, echo]</td>\n",
       "    </tr>\n",
       "    <tr>\n",
       "      <th>1</th>\n",
       "      <td>5</td>\n",
       "      <td>31-Jul-18</td>\n",
       "      <td>Charcoal Fabric</td>\n",
       "      <td>Loved it!</td>\n",
       "      <td>1</td>\n",
       "      <td>[loved]</td>\n",
       "    </tr>\n",
       "    <tr>\n",
       "      <th>2</th>\n",
       "      <td>4</td>\n",
       "      <td>31-Jul-18</td>\n",
       "      <td>Walnut Finish</td>\n",
       "      <td>\"Sometimes while playing a game, you can answe...</td>\n",
       "      <td>1</td>\n",
       "      <td>[sometimes, playing, game, answer, question, c...</td>\n",
       "    </tr>\n",
       "  </tbody>\n",
       "</table>\n",
       "</div>"
      ],
      "text/plain": [
       "   rating       date         variation  \\\n",
       "0       5  31-Jul-18  Charcoal Fabric    \n",
       "1       5  31-Jul-18  Charcoal Fabric    \n",
       "2       4  31-Jul-18    Walnut Finish    \n",
       "\n",
       "                                    verified_reviews  feedback  \\\n",
       "0                                      Love my Echo!         1   \n",
       "1                                          Loved it!         1   \n",
       "2  \"Sometimes while playing a game, you can answe...         1   \n",
       "\n",
       "                                        clean_review  \n",
       "0                                       [love, echo]  \n",
       "1                                            [loved]  \n",
       "2  [sometimes, playing, game, answer, question, c...  "
      ]
     },
     "execution_count": 11,
     "metadata": {},
     "output_type": "execute_result"
    }
   ],
   "source": [
    "#apply the text preproccessing function to the whole dataframe.\n",
    "data['clean_review'] = data['verified_reviews'].apply(lambda x: neg_trans(x))\n",
    "data['clean_review'] = trans_review(data['clean_review'], remove_stops=True)\n",
    "print(data[data['feedback']==0]['clean_review'].iloc[2])\n",
    "data.head(3)"
   ]
  },
  {
   "cell_type": "markdown",
   "metadata": {},
   "source": [
    "#### Extract the word stems"
   ]
  },
  {
   "cell_type": "code",
   "execution_count": 13,
   "metadata": {
    "scrolled": false
   },
   "outputs": [
    {
     "name": "stdout",
     "output_type": "stream",
     "text": [
      "verified review ex:  Not much features.\n",
      "============================================================\n",
      "clean_review ex:  ['muchnot', 'featuresnot']\n",
      "============================================================\n",
      "stem_words ex:  ['muchnot', 'featuresnot']\n"
     ]
    },
    {
     "data": {
      "text/html": [
       "<div>\n",
       "<style scoped>\n",
       "    .dataframe tbody tr th:only-of-type {\n",
       "        vertical-align: middle;\n",
       "    }\n",
       "\n",
       "    .dataframe tbody tr th {\n",
       "        vertical-align: top;\n",
       "    }\n",
       "\n",
       "    .dataframe thead th {\n",
       "        text-align: right;\n",
       "    }\n",
       "</style>\n",
       "<table border=\"1\" class=\"dataframe\">\n",
       "  <thead>\n",
       "    <tr style=\"text-align: right;\">\n",
       "      <th></th>\n",
       "      <th>rating</th>\n",
       "      <th>date</th>\n",
       "      <th>variation</th>\n",
       "      <th>verified_reviews</th>\n",
       "      <th>feedback</th>\n",
       "      <th>clean_review</th>\n",
       "      <th>stem_words</th>\n",
       "    </tr>\n",
       "  </thead>\n",
       "  <tbody>\n",
       "    <tr>\n",
       "      <th>3147</th>\n",
       "      <td>5</td>\n",
       "      <td>30-Jul-18</td>\n",
       "      <td>Black  Dot</td>\n",
       "      <td>\"I do love these things, i have them running m...</td>\n",
       "      <td>1</td>\n",
       "      <td>[love, things, running, entire, home, tv, ligh...</td>\n",
       "      <td>[love, thing, run, entir, home, tv, light, the...</td>\n",
       "    </tr>\n",
       "    <tr>\n",
       "      <th>3148</th>\n",
       "      <td>5</td>\n",
       "      <td>30-Jul-18</td>\n",
       "      <td>White  Dot</td>\n",
       "      <td>\"Only complaint I have is that the sound quali...</td>\n",
       "      <td>1</td>\n",
       "      <td>[mindnot, thenot, audionot, qualitynot, butnot...</td>\n",
       "      <td>[mindnot, thenot, audionot, qualitynot, butnot...</td>\n",
       "    </tr>\n",
       "    <tr>\n",
       "      <th>3149</th>\n",
       "      <td>4</td>\n",
       "      <td>29-Jul-18</td>\n",
       "      <td>Black  Dot</td>\n",
       "      <td>Good</td>\n",
       "      <td>1</td>\n",
       "      <td>[good]</td>\n",
       "      <td>[good]</td>\n",
       "    </tr>\n",
       "  </tbody>\n",
       "</table>\n",
       "</div>"
      ],
      "text/plain": [
       "      rating       date   variation  \\\n",
       "3147       5  30-Jul-18  Black  Dot   \n",
       "3148       5  30-Jul-18  White  Dot   \n",
       "3149       4  29-Jul-18  Black  Dot   \n",
       "\n",
       "                                       verified_reviews  feedback  \\\n",
       "3147  \"I do love these things, i have them running m...         1   \n",
       "3148  \"Only complaint I have is that the sound quali...         1   \n",
       "3149                                               Good         1   \n",
       "\n",
       "                                           clean_review  \\\n",
       "3147  [love, things, running, entire, home, tv, ligh...   \n",
       "3148  [mindnot, thenot, audionot, qualitynot, butnot...   \n",
       "3149                                             [good]   \n",
       "\n",
       "                                             stem_words  \n",
       "3147  [love, thing, run, entir, home, tv, light, the...  \n",
       "3148  [mindnot, thenot, audionot, qualitynot, butnot...  \n",
       "3149                                             [good]  "
      ]
     },
     "execution_count": 13,
     "metadata": {},
     "output_type": "execute_result"
    }
   ],
   "source": [
    "from nltk.stem.snowball import EnglishStemmer\n",
    "\n",
    "stemmer = EnglishStemmer()\n",
    "data['stem_words'] = data['clean_review'].apply(lambda x: [stemmer.stem(word) \\\n",
    "                                                           for word in x])\n",
    "dt_ex = data[data['feedback']==0].iloc[2]\n",
    "print('verified review ex: ', dt_ex['verified_reviews'])\n",
    "print('='*60)\n",
    "print('clean_review ex: ', dt_ex['clean_review'])\n",
    "print('='*60)\n",
    "print('stem_words ex: ', dt_ex['stem_words'])\n",
    "data.tail(3)"
   ]
  },
  {
   "cell_type": "markdown",
   "metadata": {},
   "source": [
    "#### Visuliaze the frequency of words in reviews"
   ]
  },
  {
   "cell_type": "code",
   "execution_count": 14,
   "metadata": {},
   "outputs": [],
   "source": [
    "#Frequency of words.\n",
    "from collections import Counter\n",
    "import operator\n",
    "\n",
    "stem_words_list = []\n",
    "for word in data['stem_words']:\n",
    "    stem_words_list.extend(word)\n",
    "count_words = Counter(stem_words_list)\n",
    "\n",
    "#Sort count_words by value.\n",
    "count_words = sorted(count_words.items(),\\\n",
    "                     key=operator.itemgetter(1), reverse=True)"
   ]
  },
  {
   "cell_type": "code",
   "execution_count": 15,
   "metadata": {
    "scrolled": true
   },
   "outputs": [
    {
     "data": {
      "image/png": "[encoded data removed]",
      "text/plain": [
       "<Figure size 432x288 with 1 Axes>"
      ]
     },
     "metadata": {
      "needs_background": "light"
     },
     "output_type": "display_data"
    }
   ],
   "source": [
    "#Plot the most frequent words.\n",
    "n_plot = 15\n",
    "count_words_plot = count_words[:n_plot]\n",
    "df_count_plot = pd.DataFrame(count_words_plot, columns=['word', 'freq'])\n",
    "df_count_plot.plot(x='word', y='freq', kind='bar', color='g')\n",
    "plt.xlabel('word')\n",
    "plt.ylabel('frequency')\n",
    "plt.title('%d most frequent words in data'%n_plot)\n",
    "plt.show()"
   ]
  },
  {
   "cell_type": "markdown",
   "metadata": {},
   "source": [
    "**note** we can see that the most frequent words(except the stopwords: the, we...) are 'love', 'echo', 'great'... which are relatively positive."
   ]
  },
  {
   "cell_type": "code",
   "execution_count": 16,
   "metadata": {},
   "outputs": [],
   "source": [
    "#Plot the word frequency of each rating.\n",
    "data['count_stems'] = data['stem_words'].apply(lambda x: Counter(x))\n",
    "\n",
    "df_count_group = data.groupby(['rating']).count_stems.sum()"
   ]
  },
  {
   "cell_type": "code",
   "execution_count": 17,
   "metadata": {
    "scrolled": true
   },
   "outputs": [
    {
     "data": {
      "image/png": "[encoded data removed]",
      "text/plain": [
       "<Figure size 864x432 with 1 Axes>"
      ]
     },
     "metadata": {
      "needs_background": "light"
     },
     "output_type": "display_data"
    }
   ],
   "source": [
    "#Plot the first 4 most frequent words of each rating.\n",
    "max_word_plot = 4\n",
    "barwidth = 1/(max_word_plot+2)\n",
    "\n",
    "plt.figure(figsize=(12, 6))\n",
    "colors = plt.get_cmap('Accent')\n",
    "\n",
    "for rating, d in enumerate(df_count_group):\n",
    "    d = sorted(d.items(), key=operator.itemgetter(1), reverse=True)\n",
    "    for i, (word, freq) in enumerate(d):\n",
    "        if i >= max_word_plot:\n",
    "            break\n",
    "        plt.bar(rating+1, freq, width=barwidth, color=colors(i))\n",
    "        plt.text(rating+1, freq, word, fontsize=9, horizontalalignment='center')\n",
    "        rating += barwidth\n",
    "        \n",
    "plt.xticks(df_count_group.keys())\n",
    "plt.title('Word frequency in each group.')\n",
    "plt.xlabel('rating')\n",
    "plt.ylabel('The first 3 most frequent words of each rating.')\n",
    "plt.show()"
   ]
  },
  {
   "cell_type": "markdown",
   "metadata": {},
   "source": [
    "# 3. Classification using scikit-learn"
   ]
  },
  {
   "cell_type": "markdown",
   "metadata": {},
   "source": [
    "## 3.1 RandomForest"
   ]
  },
  {
   "cell_type": "markdown",
   "metadata": {},
   "source": [
    "In this part, we focus on the coluns 'feedback' and use the RandomForestClassifier to try to construct a sentiment classifer."
   ]
  },
  {
   "cell_type": "markdown",
   "metadata": {},
   "source": [
    "#### Modelling"
   ]
  },
  {
   "cell_type": "code",
   "execution_count": 18,
   "metadata": {
    "scrolled": false
   },
   "outputs": [
    {
     "name": "stdout",
     "output_type": "stream",
     "text": [
      "86\n"
     ]
    }
   ],
   "source": [
    "len_stems = data['stem_words'].apply(lambda x: len(x))\n",
    "print(len(len_stems[len_stems==0]))"
   ]
  },
  {
   "cell_type": "code",
   "execution_count": 19,
   "metadata": {},
   "outputs": [
    {
     "name": "stdout",
     "output_type": "stream",
     "text": [
      "After droping empty reviews:\n",
      "data length: 3150 => 3064\n"
     ]
    }
   ],
   "source": [
    "#Drop the empty reviews\n",
    "data_reviews = data.copy()\n",
    "data_reviews = data_reviews.drop(len_stems[len_stems==0].index)\n",
    "print('After droping empty reviews:\\ndata length: {} => {}'.format(\\\n",
    "                                                len(data), len(data_reviews)))"
   ]
  },
  {
   "cell_type": "code",
   "execution_count": 20,
   "metadata": {},
   "outputs": [
    {
     "name": "stdout",
     "output_type": "stream",
     "text": [
      "Traing dataset length: 2451, test dataset length: 613\n"
     ]
    }
   ],
   "source": [
    "from sklearn.feature_extraction.text import CountVectorizer\n",
    "from sklearn.model_selection import train_test_split\n",
    "\n",
    "X = [' '.join(x) for x in data_reviews['stem_words']]\n",
    "#split data into training/test dataset.\n",
    "random_state = 2020\n",
    "X_train, X_test, y_train, y_test = train_test_split(X, data_reviews['feedback'], \\\n",
    "                                            test_size=.2, random_state=random_state)\n",
    "print('Traing dataset length: {}, test dataset length: {}'.format(\\\n",
    "                                                len(X_train), len(X_test)))"
   ]
  },
  {
   "cell_type": "code",
   "execution_count": 21,
   "metadata": {
    "scrolled": false
   },
   "outputs": [
    {
     "name": "stdout",
     "output_type": "stream",
     "text": [
      "(2451, 1936)\n"
     ]
    }
   ],
   "source": [
    "#Random Forest\n",
    "from sklearn.ensemble import RandomForestClassifier\n",
    "\n",
    "vectorizer = CountVectorizer(min_df=2)\n",
    "word_vect_train = vectorizer.fit_transform(X_train)\n",
    "print(word_vect_train.shape)#n_samples * n_features.\n",
    "\n",
    "rf = RandomForestClassifier(n_estimators=100).fit(word_vect_train, y_train)"
   ]
  },
  {
   "cell_type": "markdown",
   "metadata": {},
   "source": [
    "#### Evaluation"
   ]
  },
  {
   "cell_type": "code",
   "execution_count": 22,
   "metadata": {
    "scrolled": true
   },
   "outputs": [
    {
     "name": "stdout",
     "output_type": "stream",
     "text": [
      "Evaluation on test dataset:\n",
      "Confusion Matrix: \n",
      "[[ 18  31]\n",
      " [ 10 554]]\n",
      "============================================================\n",
      "Classification Report: \n"
     ]
    },
    {
     "data": {
      "text/html": [
       "<div>\n",
       "<style scoped>\n",
       "    .dataframe tbody tr th:only-of-type {\n",
       "        vertical-align: middle;\n",
       "    }\n",
       "\n",
       "    .dataframe tbody tr th {\n",
       "        vertical-align: top;\n",
       "    }\n",
       "\n",
       "    .dataframe thead th {\n",
       "        text-align: right;\n",
       "    }\n",
       "</style>\n",
       "<table border=\"1\" class=\"dataframe\">\n",
       "  <thead>\n",
       "    <tr style=\"text-align: right;\">\n",
       "      <th></th>\n",
       "      <th>precision</th>\n",
       "      <th>recall</th>\n",
       "      <th>f1-score</th>\n",
       "      <th>support</th>\n",
       "    </tr>\n",
       "  </thead>\n",
       "  <tbody>\n",
       "    <tr>\n",
       "      <th>0</th>\n",
       "      <td>0.642857</td>\n",
       "      <td>0.367347</td>\n",
       "      <td>0.467532</td>\n",
       "      <td>49.000000</td>\n",
       "    </tr>\n",
       "    <tr>\n",
       "      <th>1</th>\n",
       "      <td>0.947009</td>\n",
       "      <td>0.982270</td>\n",
       "      <td>0.964317</td>\n",
       "      <td>564.000000</td>\n",
       "    </tr>\n",
       "    <tr>\n",
       "      <th>accuracy</th>\n",
       "      <td>0.933116</td>\n",
       "      <td>0.933116</td>\n",
       "      <td>0.933116</td>\n",
       "      <td>0.933116</td>\n",
       "    </tr>\n",
       "    <tr>\n",
       "      <th>macro avg</th>\n",
       "      <td>0.794933</td>\n",
       "      <td>0.674808</td>\n",
       "      <td>0.715925</td>\n",
       "      <td>613.000000</td>\n",
       "    </tr>\n",
       "    <tr>\n",
       "      <th>weighted avg</th>\n",
       "      <td>0.922696</td>\n",
       "      <td>0.933116</td>\n",
       "      <td>0.924606</td>\n",
       "      <td>613.000000</td>\n",
       "    </tr>\n",
       "  </tbody>\n",
       "</table>\n",
       "</div>"
      ],
      "text/plain": [
       "              precision    recall  f1-score     support\n",
       "0              0.642857  0.367347  0.467532   49.000000\n",
       "1              0.947009  0.982270  0.964317  564.000000\n",
       "accuracy       0.933116  0.933116  0.933116    0.933116\n",
       "macro avg      0.794933  0.674808  0.715925  613.000000\n",
       "weighted avg   0.922696  0.933116  0.924606  613.000000"
      ]
     },
     "execution_count": 22,
     "metadata": {},
     "output_type": "execute_result"
    }
   ],
   "source": [
    "from sklearn.metrics import confusion_matrix, classification_report\n",
    "\n",
    "print(\"Evaluation on test dataset:\")\n",
    "word_vect_test = vectorizer.transform(X_test)\n",
    "y_pred = rf.predict(word_vect_test)\n",
    "print('Confusion Matrix: ')\n",
    "print(confusion_matrix(y_test, y_pred))\n",
    "print('='*60)\n",
    "print('Classification Report: ')\n",
    "pd.DataFrame(classification_report(y_test, y_pred, output_dict=True)).T"
   ]
  },
  {
   "cell_type": "markdown",
   "metadata": {},
   "source": [
    "**note** We've found that the confusion matrix has a relatively large FP, i.e. it tends to predict a negative sentiment sample as a positive sample. "
   ]
  },
  {
   "cell_type": "markdown",
   "metadata": {},
   "source": [
    "#### GridSearch"
   ]
  },
  {
   "cell_type": "markdown",
   "metadata": {},
   "source": [
    "Here we want to find the optimal hyperparameters of CountVectorizer and RandomForest to improve the performance."
   ]
  },
  {
   "cell_type": "code",
   "execution_count": 23,
   "metadata": {},
   "outputs": [
    {
     "data": {
      "text/plain": [
       "{'rf__n_estimators': 100,\n",
       " 'vectorizer__max_features': None,\n",
       " 'vectorizer__min_df': 3}"
      ]
     },
     "execution_count": 23,
     "metadata": {},
     "output_type": "execute_result"
    }
   ],
   "source": [
    "from sklearn.model_selection import GridSearchCV\n",
    "from sklearn.pipeline import Pipeline\n",
    "pipeline = Pipeline([('vectorizer', CountVectorizer()),\n",
    "                    ('rf', RandomForestClassifier())])\n",
    "params = {'vectorizer__max_features': [100, 500, 1000, 2000, None],\n",
    "          'vectorizer__min_df': range(1, 5),\n",
    "         'rf__n_estimators': [50, 100, 200]}\n",
    "cv = 3\n",
    "\n",
    "search = GridSearchCV(pipeline, params, cv=cv).fit(X_train, y_train.array)\n",
    "search.best_params_"
   ]
  },
  {
   "cell_type": "code",
   "execution_count": 24,
   "metadata": {
    "scrolled": true
   },
   "outputs": [
    {
     "data": {
      "text/html": [
       "<div>\n",
       "<style scoped>\n",
       "    .dataframe tbody tr th:only-of-type {\n",
       "        vertical-align: middle;\n",
       "    }\n",
       "\n",
       "    .dataframe tbody tr th {\n",
       "        vertical-align: top;\n",
       "    }\n",
       "\n",
       "    .dataframe thead th {\n",
       "        text-align: right;\n",
       "    }\n",
       "</style>\n",
       "<table border=\"1\" class=\"dataframe\">\n",
       "  <thead>\n",
       "    <tr style=\"text-align: right;\">\n",
       "      <th></th>\n",
       "      <th>precision</th>\n",
       "      <th>recall</th>\n",
       "      <th>f1-score</th>\n",
       "      <th>support</th>\n",
       "    </tr>\n",
       "  </thead>\n",
       "  <tbody>\n",
       "    <tr>\n",
       "      <th>0</th>\n",
       "      <td>0.678571</td>\n",
       "      <td>0.387755</td>\n",
       "      <td>0.493506</td>\n",
       "      <td>49.000000</td>\n",
       "    </tr>\n",
       "    <tr>\n",
       "      <th>1</th>\n",
       "      <td>0.948718</td>\n",
       "      <td>0.984043</td>\n",
       "      <td>0.966057</td>\n",
       "      <td>564.000000</td>\n",
       "    </tr>\n",
       "    <tr>\n",
       "      <th>accuracy</th>\n",
       "      <td>0.936378</td>\n",
       "      <td>0.936378</td>\n",
       "      <td>0.936378</td>\n",
       "      <td>0.936378</td>\n",
       "    </tr>\n",
       "    <tr>\n",
       "      <th>macro avg</th>\n",
       "      <td>0.813645</td>\n",
       "      <td>0.685899</td>\n",
       "      <td>0.729782</td>\n",
       "      <td>613.000000</td>\n",
       "    </tr>\n",
       "    <tr>\n",
       "      <th>weighted avg</th>\n",
       "      <td>0.927124</td>\n",
       "      <td>0.936378</td>\n",
       "      <td>0.928284</td>\n",
       "      <td>613.000000</td>\n",
       "    </tr>\n",
       "  </tbody>\n",
       "</table>\n",
       "</div>"
      ],
      "text/plain": [
       "              precision    recall  f1-score     support\n",
       "0              0.678571  0.387755  0.493506   49.000000\n",
       "1              0.948718  0.984043  0.966057  564.000000\n",
       "accuracy       0.936378  0.936378  0.936378    0.936378\n",
       "macro avg      0.813645  0.685899  0.729782  613.000000\n",
       "weighted avg   0.927124  0.936378  0.928284  613.000000"
      ]
     },
     "execution_count": 24,
     "metadata": {},
     "output_type": "execute_result"
    }
   ],
   "source": [
    "#Now we see if the performance has been improved!\n",
    "clf_rf_optimal = search.best_estimator_\n",
    "y_pred = clf_rf_optimal.predict(X_test)\n",
    "pd.DataFrame(classification_report(y_test, y_pred, output_dict=True)).T"
   ]
  },
  {
   "cell_type": "markdown",
   "metadata": {},
   "source": [
    "## 3.2 Naive Bayes Classifier"
   ]
  },
  {
   "cell_type": "code",
   "execution_count": 25,
   "metadata": {},
   "outputs": [],
   "source": [
    "from sklearn.naive_bayes import MultinomialNB\n",
    "piepline = Pipeline([\n",
    "    ('cv', CountVectorizer()),\n",
    "    ('nb', MultinomialNB())\n",
    "])"
   ]
  },
  {
   "cell_type": "code",
   "execution_count": 26,
   "metadata": {},
   "outputs": [
    {
     "data": {
      "text/plain": [
       "{'cv__min_df': 1, 'nb__alpha': 0.0001}"
      ]
     },
     "execution_count": 26,
     "metadata": {},
     "output_type": "execute_result"
    }
   ],
   "source": [
    "params = {'cv__min_df': range(1, 5),\n",
    "    'nb__alpha': [1e-4, 1e-3, 1e-2, 1e-1]}\n",
    "search = GridSearchCV(piepline, params)\n",
    "search.fit(X_train, y_train.array)\n",
    "search.best_params_"
   ]
  },
  {
   "cell_type": "code",
   "execution_count": 27,
   "metadata": {},
   "outputs": [
    {
     "name": "stdout",
     "output_type": "stream",
     "text": [
      "Confusion Matrix: \n",
      "[[ 17  32]\n",
      " [ 14 550]]\n",
      "============================================================\n",
      "Classification Report of Naive Bayes:\n"
     ]
    },
    {
     "data": {
      "text/html": [
       "<div>\n",
       "<style scoped>\n",
       "    .dataframe tbody tr th:only-of-type {\n",
       "        vertical-align: middle;\n",
       "    }\n",
       "\n",
       "    .dataframe tbody tr th {\n",
       "        vertical-align: top;\n",
       "    }\n",
       "\n",
       "    .dataframe thead th {\n",
       "        text-align: right;\n",
       "    }\n",
       "</style>\n",
       "<table border=\"1\" class=\"dataframe\">\n",
       "  <thead>\n",
       "    <tr style=\"text-align: right;\">\n",
       "      <th></th>\n",
       "      <th>precision</th>\n",
       "      <th>recall</th>\n",
       "      <th>f1-score</th>\n",
       "      <th>support</th>\n",
       "    </tr>\n",
       "  </thead>\n",
       "  <tbody>\n",
       "    <tr>\n",
       "      <th>0</th>\n",
       "      <td>0.548387</td>\n",
       "      <td>0.346939</td>\n",
       "      <td>0.425000</td>\n",
       "      <td>49.000000</td>\n",
       "    </tr>\n",
       "    <tr>\n",
       "      <th>1</th>\n",
       "      <td>0.945017</td>\n",
       "      <td>0.975177</td>\n",
       "      <td>0.959860</td>\n",
       "      <td>564.000000</td>\n",
       "    </tr>\n",
       "    <tr>\n",
       "      <th>accuracy</th>\n",
       "      <td>0.924959</td>\n",
       "      <td>0.924959</td>\n",
       "      <td>0.924959</td>\n",
       "      <td>0.924959</td>\n",
       "    </tr>\n",
       "    <tr>\n",
       "      <th>macro avg</th>\n",
       "      <td>0.746702</td>\n",
       "      <td>0.661058</td>\n",
       "      <td>0.692430</td>\n",
       "      <td>613.000000</td>\n",
       "    </tr>\n",
       "    <tr>\n",
       "      <th>weighted avg</th>\n",
       "      <td>0.913313</td>\n",
       "      <td>0.924959</td>\n",
       "      <td>0.917106</td>\n",
       "      <td>613.000000</td>\n",
       "    </tr>\n",
       "  </tbody>\n",
       "</table>\n",
       "</div>"
      ],
      "text/plain": [
       "              precision    recall  f1-score     support\n",
       "0              0.548387  0.346939  0.425000   49.000000\n",
       "1              0.945017  0.975177  0.959860  564.000000\n",
       "accuracy       0.924959  0.924959  0.924959    0.924959\n",
       "macro avg      0.746702  0.661058  0.692430  613.000000\n",
       "weighted avg   0.913313  0.924959  0.917106  613.000000"
      ]
     },
     "metadata": {},
     "output_type": "display_data"
    }
   ],
   "source": [
    "clf_nb_optimal = search.best_estimator_\n",
    "y_pred_nb = clf_nb_optimal.predict(X_test)\n",
    "print(\"Confusion Matrix: \")\n",
    "print(confusion_matrix(y_test, y_pred_nb))\n",
    "print('='*60)\n",
    "print('Classification Report of Naive Bayes:')\n",
    "display(pd.DataFrame(classification_report(y_test, y_pred_nb, output_dict=True)).T)"
   ]
  },
  {
   "cell_type": "code",
   "execution_count": 28,
   "metadata": {},
   "outputs": [
    {
     "name": "stdout",
     "output_type": "stream",
     "text": [
      "The AUC score of NB and RandomForest are 0.7467 and 0.8136 respectively.\n"
     ]
    }
   ],
   "source": [
    "from sklearn.metrics import roc_auc_score\n",
    "print('The AUC score of NB and RandomForest are %.4f and %.4f respectively.'%(\\\n",
    "                    roc_auc_score(y_pred_nb, y_test), roc_auc_score(y_pred, y_test)))"
   ]
  },
  {
   "cell_type": "markdown",
   "metadata": {},
   "source": [
    "## 3.3 SVM"
   ]
  },
  {
   "cell_type": "markdown",
   "metadata": {},
   "source": [
    "Construct a function for Grid Search"
   ]
  },
  {
   "cell_type": "code",
   "execution_count": 29,
   "metadata": {},
   "outputs": [
    {
     "data": {
      "text/plain": [
       "{'cv__min_df': 3, 'svc__C': 10, 'svc__kernel': 'rbf'}"
      ]
     },
     "execution_count": 29,
     "metadata": {},
     "output_type": "execute_result"
    }
   ],
   "source": [
    "from sklearn.svm import SVC\n",
    "piepline = Pipeline([\n",
    "    ('cv', CountVectorizer()),\n",
    "    ('svc', SVC())\n",
    "])\n",
    "params = {'cv__min_df': range(1, 5),\n",
    "          'svc__kernel': ['linear', 'rbf'],\n",
    "    'svc__C': [1, 10, 100, 1000]}\n",
    "search = GridSearchCV(piepline, params)\n",
    "search.fit(X_train, y_train.array)\n",
    "search.best_params_"
   ]
  },
  {
   "cell_type": "code",
   "execution_count": 30,
   "metadata": {
    "scrolled": true
   },
   "outputs": [
    {
     "name": "stdout",
     "output_type": "stream",
     "text": [
      "Confusion Matrix: \n",
      "[[ 15  34]\n",
      " [  2 562]]\n",
      "============================================================\n",
      "Classification Report of SVC:\n"
     ]
    },
    {
     "data": {
      "text/html": [
       "<div>\n",
       "<style scoped>\n",
       "    .dataframe tbody tr th:only-of-type {\n",
       "        vertical-align: middle;\n",
       "    }\n",
       "\n",
       "    .dataframe tbody tr th {\n",
       "        vertical-align: top;\n",
       "    }\n",
       "\n",
       "    .dataframe thead th {\n",
       "        text-align: right;\n",
       "    }\n",
       "</style>\n",
       "<table border=\"1\" class=\"dataframe\">\n",
       "  <thead>\n",
       "    <tr style=\"text-align: right;\">\n",
       "      <th></th>\n",
       "      <th>precision</th>\n",
       "      <th>recall</th>\n",
       "      <th>f1-score</th>\n",
       "      <th>support</th>\n",
       "    </tr>\n",
       "  </thead>\n",
       "  <tbody>\n",
       "    <tr>\n",
       "      <th>0</th>\n",
       "      <td>0.882353</td>\n",
       "      <td>0.306122</td>\n",
       "      <td>0.454545</td>\n",
       "      <td>49.000000</td>\n",
       "    </tr>\n",
       "    <tr>\n",
       "      <th>1</th>\n",
       "      <td>0.942953</td>\n",
       "      <td>0.996454</td>\n",
       "      <td>0.968966</td>\n",
       "      <td>564.000000</td>\n",
       "    </tr>\n",
       "    <tr>\n",
       "      <th>accuracy</th>\n",
       "      <td>0.941272</td>\n",
       "      <td>0.941272</td>\n",
       "      <td>0.941272</td>\n",
       "      <td>0.941272</td>\n",
       "    </tr>\n",
       "    <tr>\n",
       "      <th>macro avg</th>\n",
       "      <td>0.912653</td>\n",
       "      <td>0.651288</td>\n",
       "      <td>0.711755</td>\n",
       "      <td>613.000000</td>\n",
       "    </tr>\n",
       "    <tr>\n",
       "      <th>weighted avg</th>\n",
       "      <td>0.938109</td>\n",
       "      <td>0.941272</td>\n",
       "      <td>0.927845</td>\n",
       "      <td>613.000000</td>\n",
       "    </tr>\n",
       "  </tbody>\n",
       "</table>\n",
       "</div>"
      ],
      "text/plain": [
       "              precision    recall  f1-score     support\n",
       "0              0.882353  0.306122  0.454545   49.000000\n",
       "1              0.942953  0.996454  0.968966  564.000000\n",
       "accuracy       0.941272  0.941272  0.941272    0.941272\n",
       "macro avg      0.912653  0.651288  0.711755  613.000000\n",
       "weighted avg   0.938109  0.941272  0.927845  613.000000"
      ]
     },
     "metadata": {},
     "output_type": "display_data"
    }
   ],
   "source": [
    "clf_svc_optimal = search.best_estimator_\n",
    "y_pred_svc = clf_svc_optimal.predict(X_test)\n",
    "print(\"Confusion Matrix: \")\n",
    "print(confusion_matrix(y_test, y_pred_svc))\n",
    "print('='*60)\n",
    "\n",
    "print('Classification Report of SVC:')\n",
    "display(pd.DataFrame(classification_report(y_test, y_pred_svc, output_dict=True)).T)"
   ]
  },
  {
   "cell_type": "markdown",
   "metadata": {},
   "source": [
    "Now we set the parameter class_weight='balanced' since our dataset is very imbalanced."
   ]
  },
  {
   "cell_type": "code",
   "execution_count": 31,
   "metadata": {},
   "outputs": [
    {
     "data": {
      "text/plain": [
       "{'cv__min_df': 1, 'svc__C': 1, 'svc__kernel': 'linear'}"
      ]
     },
     "execution_count": 31,
     "metadata": {},
     "output_type": "execute_result"
    }
   ],
   "source": [
    "#Balance the weights\n",
    "piepline = Pipeline([\n",
    "    ('cv', CountVectorizer()),\n",
    "    ('svc', SVC(class_weight='balanced'))\n",
    "])\n",
    "params = {'cv__min_df': range(1, 5),\n",
    "          'svc__kernel': ['linear', 'balanced'],\n",
    "    'svc__C': [1, 10, 100, 1000]}\n",
    "search = GridSearchCV(piepline, params)\n",
    "search.fit(X_train, y_train.array)\n",
    "search.best_params_"
   ]
  },
  {
   "cell_type": "code",
   "execution_count": 34,
   "metadata": {
    "scrolled": true
   },
   "outputs": [
    {
     "name": "stdout",
     "output_type": "stream",
     "text": [
      "Confusion Matrix: \n",
      "[[ 21  28]\n",
      " [ 18 546]]\n",
      "============================================================\n",
      "Classification Report of SVC with balaned weight:\n"
     ]
    },
    {
     "data": {
      "text/html": [
       "<div>\n",
       "<style scoped>\n",
       "    .dataframe tbody tr th:only-of-type {\n",
       "        vertical-align: middle;\n",
       "    }\n",
       "\n",
       "    .dataframe tbody tr th {\n",
       "        vertical-align: top;\n",
       "    }\n",
       "\n",
       "    .dataframe thead th {\n",
       "        text-align: right;\n",
       "    }\n",
       "</style>\n",
       "<table border=\"1\" class=\"dataframe\">\n",
       "  <thead>\n",
       "    <tr style=\"text-align: right;\">\n",
       "      <th></th>\n",
       "      <th>precision</th>\n",
       "      <th>recall</th>\n",
       "      <th>f1-score</th>\n",
       "      <th>support</th>\n",
       "    </tr>\n",
       "  </thead>\n",
       "  <tbody>\n",
       "    <tr>\n",
       "      <th>0</th>\n",
       "      <td>0.538462</td>\n",
       "      <td>0.428571</td>\n",
       "      <td>0.477273</td>\n",
       "      <td>49.000000</td>\n",
       "    </tr>\n",
       "    <tr>\n",
       "      <th>1</th>\n",
       "      <td>0.951220</td>\n",
       "      <td>0.968085</td>\n",
       "      <td>0.959578</td>\n",
       "      <td>564.000000</td>\n",
       "    </tr>\n",
       "    <tr>\n",
       "      <th>accuracy</th>\n",
       "      <td>0.924959</td>\n",
       "      <td>0.924959</td>\n",
       "      <td>0.924959</td>\n",
       "      <td>0.924959</td>\n",
       "    </tr>\n",
       "    <tr>\n",
       "      <th>macro avg</th>\n",
       "      <td>0.744841</td>\n",
       "      <td>0.698328</td>\n",
       "      <td>0.718425</td>\n",
       "      <td>613.000000</td>\n",
       "    </tr>\n",
       "    <tr>\n",
       "      <th>weighted avg</th>\n",
       "      <td>0.918226</td>\n",
       "      <td>0.924959</td>\n",
       "      <td>0.921025</td>\n",
       "      <td>613.000000</td>\n",
       "    </tr>\n",
       "  </tbody>\n",
       "</table>\n",
       "</div>"
      ],
      "text/plain": [
       "              precision    recall  f1-score     support\n",
       "0              0.538462  0.428571  0.477273   49.000000\n",
       "1              0.951220  0.968085  0.959578  564.000000\n",
       "accuracy       0.924959  0.924959  0.924959    0.924959\n",
       "macro avg      0.744841  0.698328  0.718425  613.000000\n",
       "weighted avg   0.918226  0.924959  0.921025  613.000000"
      ]
     },
     "metadata": {},
     "output_type": "display_data"
    },
    {
     "name": "stdout",
     "output_type": "stream",
     "text": [
      "The AUC score of SVC is 0.6983\n"
     ]
    }
   ],
   "source": [
    "clf_svc_imb_optimal = search.best_estimator_\n",
    "y_pred_svc_imb = clf_svc_imb_optimal.predict(X_test)\n",
    "print(\"Confusion Matrix: \")\n",
    "print(confusion_matrix(y_test, y_pred_svc_imb))\n",
    "print('='*60)\n",
    "\n",
    "print('Classification Report of SVC with balaned weight:')\n",
    "display(pd.DataFrame(classification_report(y_test, y_pred_svc_imb, output_dict=True)).T)\n",
    "\n",
    "print('The AUC score of SVC is %.4f'%(roc_auc_score(y_test, y_pred_svc_imb)))"
   ]
  },
  {
   "cell_type": "markdown",
   "metadata": {},
   "source": [
    "**note** Naive Bayes has a small recall so that it will tend to predict the negative labels as positive. Among these three methods, SVC(balanced) have a superior performance.\n",
    " \n",
    "Before coming to a conclusion, we'll try using the neural network."
   ]
  },
  {
   "cell_type": "markdown",
   "metadata": {},
   "source": [
    "# 4. pytorch"
   ]
  },
  {
   "cell_type": "markdown",
   "metadata": {},
   "source": [
    "In this part, we'll build a neural network using the module pytorch to predict the labels of each review. We'll follow the next steps:\n",
    "- Build a class of neural network.\n",
    "- Load and tokenizer the corpus.\n",
    "- Map tokens(resp. sentiments) with index_tokens(resp. index_sentim) and symetrically.\n",
    "- Train the model using optimizer as torch.optim.SGD and loss function as NLLLoss.\n",
    "- Evaluate our model."
   ]
  },
  {
   "cell_type": "code",
   "execution_count": 33,
   "metadata": {},
   "outputs": [],
   "source": [
    "import torch\n",
    "from torch import nn, optim, tensor"
   ]
  },
  {
   "cell_type": "code",
   "execution_count": 35,
   "metadata": {},
   "outputs": [],
   "source": [
    "X_train = [x.split() for x in X_train]\n",
    "y_train = y_train.array"
   ]
  },
  {
   "cell_type": "markdown",
   "metadata": {},
   "source": [
    "#### Build a class SequenceLabeller"
   ]
  },
  {
   "cell_type": "code",
   "execution_count": 36,
   "metadata": {},
   "outputs": [],
   "source": [
    "from torch.nn.functional import log_softmax\n",
    "\n",
    "class SequenceLabeller(nn.Module):\n",
    "    def __init__(self, embedding_dim, hidden_dim, vocab_size, \\\n",
    "                 num_classes, sequence_model='LSTM'):\n",
    "        \"\"\"\n",
    "            embedding_dim: number of embeddings.\n",
    "            hidden_dim: number of hidden nodes.\n",
    "            vocab_size: number of unique words.\n",
    "            num_classes: number of unique labels(2: positive/negative).\n",
    "            sequence_model: model\n",
    "        \"\"\"\n",
    "        super(SequenceLabeller, self).__init__()\n",
    "        self.hidden_dim = hidden_dim\n",
    "        self.word_embeddings = nn.Embedding(vocab_size, embedding_dim)\n",
    "        \n",
    "        if sequence_model == \"LSTM\":\n",
    "            #Use the LSTM model by default.\n",
    "            self.seq = nn.LSTM(embedding_dim, hidden_dim, batch_first=True)\n",
    "        else:\n",
    "            raise(Exception('Sequence Model {} not supported'.format(sequence_model)))\n",
    "            \n",
    "        self.hidden2tag = nn.Linear(hidden_dim, num_classes)\n",
    "        #A linear layer.\n",
    "        \n",
    "    def forward(self, sentence):\n",
    "        embeds = self.word_embeddings(sentence)\n",
    "        seq_output, (h_n, c_n) = self.seq(embeds)\n",
    "        tag_space = self.hidden2tag(seq_output)\n",
    "        tag_scores = log_softmax(tag_space, dim=2)\n",
    "        return tag_scores "
   ]
  },
  {
   "cell_type": "markdown",
   "metadata": {},
   "source": [
    "#### Map each word and label with the correponding index"
   ]
  },
  {
   "cell_type": "code",
   "execution_count": 37,
   "metadata": {},
   "outputs": [],
   "source": [
    "def map_idx(seq, idx):\n",
    "    #map a sequence to a tensor object of index\n",
    "    idx_list = [idx[w] if w in idx else len(idx) for w in seq]\n",
    "    idx_tensor = tensor(idx_list, dtype=torch.long).unsqueeze(0)\n",
    "    return idx_tensor"
   ]
  },
  {
   "cell_type": "code",
   "execution_count": 38,
   "metadata": {
    "scrolled": true
   },
   "outputs": [
    {
     "name": "stdout",
     "output_type": "stream",
     "text": [
      "{1: 0, 0: 1}\n"
     ]
    }
   ],
   "source": [
    "word_idx, sentiment_idx = {}, {}\n",
    "for text, sentiment in zip(X_train, y_train):\n",
    "    sentiment_idx.setdefault(sentiment, len(sentiment_idx))\n",
    "    for word in text:\n",
    "        word_idx.setdefault(word, len(word_idx))\n",
    "        \n",
    "print(sentiment_idx)"
   ]
  },
  {
   "cell_type": "markdown",
   "metadata": {},
   "source": [
    "#### Train model"
   ]
  },
  {
   "cell_type": "code",
   "execution_count": 46,
   "metadata": {
    "scrolled": true
   },
   "outputs": [
    {
     "name": "stdout",
     "output_type": "stream",
     "text": [
      "Epoch 1 loss 0.0002 \n",
      "Epoch 2 loss 0.0002 \n",
      "Epoch 3 loss 0.0001 \n",
      "Epoch 4 loss 0.0000 \n",
      "Epoch 5 loss 0.0000 \n",
      "Epoch 6 loss 0.0000 \n",
      "Epoch 7 loss 0.0000 \n",
      "Epoch 8 loss 0.0000 \n",
      "Epoch 9 loss 0.0000 \n",
      "Epoch 10 loss 0.0000 \n",
      "Epoch 11 loss 0.0000 \n",
      "Epoch 12 loss 0.0000 \n",
      "Epoch 13 loss 0.0000 \n",
      "Epoch 14 loss 0.0000 \n",
      "Epoch 15 loss 0.0000 \n",
      "Epoch 16 loss 0.0000 \n",
      "Epoch 17 loss 0.0000 \n",
      "Epoch 18 loss 0.0000 \n",
      "Epoch 19 loss 0.0000 \n",
      "Epoch 20 loss 0.0000 \n",
      "Epoch 21 loss 0.0000 \n",
      "Epoch 22 loss 0.0000 \n",
      "Epoch 23 loss 0.0000 \n",
      "Epoch 24 loss 0.0000 \n",
      "Epoch 25 loss 0.0000 \n",
      "Epoch 26 loss 0.0000 \n",
      "Epoch 27 loss 0.0000 \n",
      "Epoch 28 loss 0.0000 \n",
      "Epoch 29 loss 0.0000 \n",
      "Epoch 30 loss 0.0000 \n",
      "Epoch 31 loss 0.0000 \n",
      "Epoch 32 loss 0.0000 \n",
      "Epoch 33 loss 0.0000 \n",
      "Epoch 34 loss 0.0000 \n",
      "Epoch 35 loss 0.0000 \n",
      "Epoch 36 loss 0.0000 \n",
      "Epoch 37 loss 0.0000 \n",
      "Epoch 38 loss 0.0000 \n",
      "Epoch 39 loss 0.0000 \n",
      "Epoch 40 loss 0.0000 \n",
      "Epoch 41 loss 0.0000 \n",
      "Epoch 42 loss 0.0000 \n",
      "Epoch 43 loss 0.0000 \n",
      "Epoch 44 loss 0.0000 \n",
      "Epoch 45 loss 0.0000 \n",
      "Epoch 46 loss 0.0000 \n",
      "Epoch 47 loss 0.0000 \n",
      "Epoch 48 loss 0.0000 \n",
      "Epoch 49 loss 0.0000 \n",
      "Epoch 50 loss 0.0000 \n"
     ]
    }
   ],
   "source": [
    "from torch.nn.functional import one_hot, log_softmax\n",
    "nll = nn.NLLLoss()\n",
    "model = SequenceLabeller(50, 100, len(word_idx)+1, len(sentiment_idx))\n",
    "optimizer = optim.SGD(model.parameters(), lr=0.01)\n",
    "\n",
    "n_epochs = 50\n",
    "for epoch in range(n_epochs): \n",
    "    loss_mean_ep = 0\n",
    "    n_sample = 0\n",
    "    for text, sentiment in zip(X_train, y_train):\n",
    "        if len(text) <= 1:#if len(text) <= 2\n",
    "            continue\n",
    "            \n",
    "        model.zero_grad()\n",
    "        text_map = map_idx(text, word_idx)        \n",
    "        sentiment_map = map_idx([sentiment], sentiment_idx)\n",
    "        one_hot_targets = one_hot(sentiment_map.squeeze(0), \\\n",
    "                                    num_classes=len(sentiment_idx))\n",
    "        scores = model(text_map)\n",
    "        loss = nll(scores, one_hot_targets)\n",
    "        loss_mean_ep += loss\n",
    "        n_sample += 1\n",
    "\n",
    "        # Backpropagate the loss and perform an optimisation step\n",
    "        loss.backward()\n",
    "        optimizer.step()\n",
    "\n",
    "    print(\"Epoch {} loss {:0.4f} \".format(epoch+1, loss/n_sample))"
   ]
  },
  {
   "cell_type": "markdown",
   "metadata": {},
   "source": [
    "**note** We first filter the text by limiting the text with length >= 2, which leads to a bad recall . The reason is that the text number for the negative reviews is generally smaller than that of positive reviews. Since the proportion of negative reviews is originally small(about 200), after filtering, the model will labelize almost all the reviews as positive. "
   ]
  },
  {
   "cell_type": "markdown",
   "metadata": {},
   "source": [
    "#### Evaluation"
   ]
  },
  {
   "cell_type": "code",
   "execution_count": 40,
   "metadata": {},
   "outputs": [],
   "source": [
    "def clf_auc_report(corpus, sentiments, return_pred=True):\n",
    "    #Calculate the AUC score and print the classification report.\n",
    "    #If return_pred = True then return the predicted score.\n",
    "    pred = []\n",
    "    test = []\n",
    "    with torch.no_grad():\n",
    "        for text, sentiment in zip(corpus, sentiments):\n",
    "            text_map = map_idx(text, word_idx)\n",
    "            score = model(text_map)\n",
    "            pred.append(torch.mean(torch.exp(\\\n",
    "                                    score.squeeze(0)[:, 1])).item())\n",
    "            test.append(sentiment)#map_idx([sentiment], sentiment_idx))\n",
    "\n",
    "            \n",
    "    print('AUC score: %.4f'%(roc_auc_score(test, pred)))\n",
    "    print('Confusion Matrix: \\n{}'.format(confusion_matrix(test, np.array(pred)<.5)))\n",
    "    display(pd.DataFrame(classification_report(test, np.array(pred)<.5, \\\n",
    "                                        output_dict=True)).T)\n",
    "    \n",
    "    if return_pred:\n",
    "        return pred"
   ]
  },
  {
   "cell_type": "code",
   "execution_count": 47,
   "metadata": {
    "scrolled": false
   },
   "outputs": [
    {
     "name": "stdout",
     "output_type": "stream",
     "text": [
      "AUC score: 0.6030\n",
      "Confusion Matrix: \n",
      "[[  0  49]\n",
      " [  0 564]]\n"
     ]
    },
    {
     "data": {
      "text/html": [
       "<div>\n",
       "<style scoped>\n",
       "    .dataframe tbody tr th:only-of-type {\n",
       "        vertical-align: middle;\n",
       "    }\n",
       "\n",
       "    .dataframe tbody tr th {\n",
       "        vertical-align: top;\n",
       "    }\n",
       "\n",
       "    .dataframe thead th {\n",
       "        text-align: right;\n",
       "    }\n",
       "</style>\n",
       "<table border=\"1\" class=\"dataframe\">\n",
       "  <thead>\n",
       "    <tr style=\"text-align: right;\">\n",
       "      <th></th>\n",
       "      <th>precision</th>\n",
       "      <th>recall</th>\n",
       "      <th>f1-score</th>\n",
       "      <th>support</th>\n",
       "    </tr>\n",
       "  </thead>\n",
       "  <tbody>\n",
       "    <tr>\n",
       "      <th>0</th>\n",
       "      <td>0.000000</td>\n",
       "      <td>0.000000</td>\n",
       "      <td>0.000000</td>\n",
       "      <td>49.000000</td>\n",
       "    </tr>\n",
       "    <tr>\n",
       "      <th>1</th>\n",
       "      <td>0.920065</td>\n",
       "      <td>1.000000</td>\n",
       "      <td>0.958369</td>\n",
       "      <td>564.000000</td>\n",
       "    </tr>\n",
       "    <tr>\n",
       "      <th>accuracy</th>\n",
       "      <td>0.920065</td>\n",
       "      <td>0.920065</td>\n",
       "      <td>0.920065</td>\n",
       "      <td>0.920065</td>\n",
       "    </tr>\n",
       "    <tr>\n",
       "      <th>macro avg</th>\n",
       "      <td>0.460033</td>\n",
       "      <td>0.500000</td>\n",
       "      <td>0.479184</td>\n",
       "      <td>613.000000</td>\n",
       "    </tr>\n",
       "    <tr>\n",
       "      <th>weighted avg</th>\n",
       "      <td>0.846520</td>\n",
       "      <td>0.920065</td>\n",
       "      <td>0.881762</td>\n",
       "      <td>613.000000</td>\n",
       "    </tr>\n",
       "  </tbody>\n",
       "</table>\n",
       "</div>"
      ],
      "text/plain": [
       "              precision    recall  f1-score     support\n",
       "0              0.000000  0.000000  0.000000   49.000000\n",
       "1              0.920065  1.000000  0.958369  564.000000\n",
       "accuracy       0.920065  0.920065  0.920065    0.920065\n",
       "macro avg      0.460033  0.500000  0.479184  613.000000\n",
       "weighted avg   0.846520  0.920065  0.881762  613.000000"
      ]
     },
     "metadata": {},
     "output_type": "display_data"
    }
   ],
   "source": [
    "y_pred_torch_test = clf_auc_report(X_test, y_test.array)"
   ]
  },
  {
   "cell_type": "markdown",
   "metadata": {},
   "source": [
    "# 5. Classification using ratings"
   ]
  },
  {
   "cell_type": "markdown",
   "metadata": {
    "scrolled": true
   },
   "source": [
    "In this section, we'll classify the reviews using the variable 'rating' instead of 'feedback'. Then predict the feedback using the results"
   ]
  },
  {
   "cell_type": "code",
   "execution_count": 37,
   "metadata": {
    "scrolled": true
   },
   "outputs": [
    {
     "name": "stdout",
     "output_type": "stream",
     "text": [
      "{1, 2}\n",
      "{3, 4, 5}\n"
     ]
    }
   ],
   "source": [
    "print(set(data[data['feedback']==0]['rating']))\n",
    "print(set(data[data['feedback']==1]['rating']))"
   ]
  },
  {
   "cell_type": "markdown",
   "metadata": {},
   "source": [
    "We could see that the clients who left a negative feedback as $0$ all left ratings as either $0$ or $1$, and who left a positive feedback left ratings as $3, 4, 5$. So we could depart from this point and try to classify the reviews using ratings. "
   ]
  },
  {
   "cell_type": "code",
   "execution_count": 38,
   "metadata": {},
   "outputs": [
    {
     "name": "stdout",
     "output_type": "stream",
     "text": [
      "Traing dataset length: 2451, test dataset length: 613\n"
     ]
    }
   ],
   "source": [
    "#Reset y as ratings\n",
    "X_train, X_test, y_train, y_test = train_test_split(X, data_reviews['rating'], \\\n",
    "                                            test_size=.2, random_state=random_state)\n",
    "print('Traing dataset length: {}, test dataset length: {}'.format(\\\n",
    "                                                len(X_train), len(X_test)))"
   ]
  },
  {
   "cell_type": "markdown",
   "metadata": {},
   "source": [
    "**SVC**"
   ]
  },
  {
   "cell_type": "code",
   "execution_count": 39,
   "metadata": {},
   "outputs": [
    {
     "data": {
      "text/plain": [
       "{'cv__min_df': 1, 'svc__C': 1, 'svc__kernel': 'linear'}"
      ]
     },
     "execution_count": 39,
     "metadata": {},
     "output_type": "execute_result"
    }
   ],
   "source": [
    "#We compare the SVC and RandomForest since they perform better previously.\n",
    "piepline = Pipeline([\n",
    "    ('cv', CountVectorizer()),\n",
    "    ('svc', SVC(class_weight='balanced'))\n",
    "])\n",
    "params = {'cv__min_df': range(1, 5),\n",
    "          'svc__kernel': ['linear', 'balanced'],\n",
    "    'svc__C': [1, 10, 100, 1000]}\n",
    "search = GridSearchCV(piepline, params)\n",
    "search.fit(X_train, y_train.array)\n",
    "search.best_params_"
   ]
  },
  {
   "cell_type": "code",
   "execution_count": 41,
   "metadata": {
    "scrolled": false
   },
   "outputs": [
    {
     "name": "stdout",
     "output_type": "stream",
     "text": [
      "Confusion Matrix: \n",
      "[[ 22  27]\n",
      " [ 18 546]]\n",
      "============================================================\n",
      "Classification Report of SVC with balaned weight(reviews vs ratings):\n"
     ]
    },
    {
     "data": {
      "text/html": [
       "<div>\n",
       "<style scoped>\n",
       "    .dataframe tbody tr th:only-of-type {\n",
       "        vertical-align: middle;\n",
       "    }\n",
       "\n",
       "    .dataframe tbody tr th {\n",
       "        vertical-align: top;\n",
       "    }\n",
       "\n",
       "    .dataframe thead th {\n",
       "        text-align: right;\n",
       "    }\n",
       "</style>\n",
       "<table border=\"1\" class=\"dataframe\">\n",
       "  <thead>\n",
       "    <tr style=\"text-align: right;\">\n",
       "      <th></th>\n",
       "      <th>precision</th>\n",
       "      <th>recall</th>\n",
       "      <th>f1-score</th>\n",
       "      <th>support</th>\n",
       "    </tr>\n",
       "  </thead>\n",
       "  <tbody>\n",
       "    <tr>\n",
       "      <th>0</th>\n",
       "      <td>0.550000</td>\n",
       "      <td>0.448980</td>\n",
       "      <td>0.494382</td>\n",
       "      <td>49.000000</td>\n",
       "    </tr>\n",
       "    <tr>\n",
       "      <th>1</th>\n",
       "      <td>0.952880</td>\n",
       "      <td>0.968085</td>\n",
       "      <td>0.960422</td>\n",
       "      <td>564.000000</td>\n",
       "    </tr>\n",
       "    <tr>\n",
       "      <th>accuracy</th>\n",
       "      <td>0.926591</td>\n",
       "      <td>0.926591</td>\n",
       "      <td>0.926591</td>\n",
       "      <td>0.926591</td>\n",
       "    </tr>\n",
       "    <tr>\n",
       "      <th>macro avg</th>\n",
       "      <td>0.751440</td>\n",
       "      <td>0.708532</td>\n",
       "      <td>0.727402</td>\n",
       "      <td>613.000000</td>\n",
       "    </tr>\n",
       "    <tr>\n",
       "      <th>weighted avg</th>\n",
       "      <td>0.920676</td>\n",
       "      <td>0.926591</td>\n",
       "      <td>0.923169</td>\n",
       "      <td>613.000000</td>\n",
       "    </tr>\n",
       "  </tbody>\n",
       "</table>\n",
       "</div>"
      ],
      "text/plain": [
       "              precision    recall  f1-score     support\n",
       "0              0.550000  0.448980  0.494382   49.000000\n",
       "1              0.952880  0.968085  0.960422  564.000000\n",
       "accuracy       0.926591  0.926591  0.926591    0.926591\n",
       "macro avg      0.751440  0.708532  0.727402  613.000000\n",
       "weighted avg   0.920676  0.926591  0.923169  613.000000"
      ]
     },
     "metadata": {},
     "output_type": "display_data"
    }
   ],
   "source": [
    "clf_svc_imb_rating_optimal = search.best_estimator_\n",
    "rating_pred_svc_imb_rating = clf_svc_imb_rating_optimal.predict(X_test)\n",
    "y_pred_svc_imb_rating = np.zeros_like(rating_pred_svc_imb_rating)\n",
    "y_pred_svc_imb_rating[rating_pred_svc_imb_rating>2] = 1\n",
    "y_test_fb = data.iloc[y_test.index]['feedback'].array\n",
    "\n",
    "print(\"Confusion Matrix: \")\n",
    "print(confusion_matrix(y_test_fb, y_pred_svc_imb_rating))\n",
    "print('='*60)\n",
    "\n",
    "print('Classification Report of SVC with balaned weight(reviews vs ratings):')\n",
    "display(pd.DataFrame(classification_report(y_test_fb, y_pred_svc_imb_rating, output_dict=True)).T)"
   ]
  },
  {
   "cell_type": "markdown",
   "metadata": {},
   "source": [
    "**Random Forest**"
   ]
  },
  {
   "cell_type": "code",
   "execution_count": 43,
   "metadata": {},
   "outputs": [
    {
     "name": "stdout",
     "output_type": "stream",
     "text": [
      "Confusion Matrix: \n",
      "[[ 18  31]\n",
      " [  7 557]]\n",
      "============================================================\n",
      "Classification Report of SVC with balaned weight(reviews vs ratings):\n"
     ]
    },
    {
     "data": {
      "text/html": [
       "<div>\n",
       "<style scoped>\n",
       "    .dataframe tbody tr th:only-of-type {\n",
       "        vertical-align: middle;\n",
       "    }\n",
       "\n",
       "    .dataframe tbody tr th {\n",
       "        vertical-align: top;\n",
       "    }\n",
       "\n",
       "    .dataframe thead th {\n",
       "        text-align: right;\n",
       "    }\n",
       "</style>\n",
       "<table border=\"1\" class=\"dataframe\">\n",
       "  <thead>\n",
       "    <tr style=\"text-align: right;\">\n",
       "      <th></th>\n",
       "      <th>precision</th>\n",
       "      <th>recall</th>\n",
       "      <th>f1-score</th>\n",
       "      <th>support</th>\n",
       "    </tr>\n",
       "  </thead>\n",
       "  <tbody>\n",
       "    <tr>\n",
       "      <th>0</th>\n",
       "      <td>0.720000</td>\n",
       "      <td>0.367347</td>\n",
       "      <td>0.486486</td>\n",
       "      <td>49.00000</td>\n",
       "    </tr>\n",
       "    <tr>\n",
       "      <th>1</th>\n",
       "      <td>0.947279</td>\n",
       "      <td>0.987589</td>\n",
       "      <td>0.967014</td>\n",
       "      <td>564.00000</td>\n",
       "    </tr>\n",
       "    <tr>\n",
       "      <th>accuracy</th>\n",
       "      <td>0.938010</td>\n",
       "      <td>0.938010</td>\n",
       "      <td>0.938010</td>\n",
       "      <td>0.93801</td>\n",
       "    </tr>\n",
       "    <tr>\n",
       "      <th>macro avg</th>\n",
       "      <td>0.833639</td>\n",
       "      <td>0.677468</td>\n",
       "      <td>0.726750</td>\n",
       "      <td>613.00000</td>\n",
       "    </tr>\n",
       "    <tr>\n",
       "      <th>weighted avg</th>\n",
       "      <td>0.929111</td>\n",
       "      <td>0.938010</td>\n",
       "      <td>0.928603</td>\n",
       "      <td>613.00000</td>\n",
       "    </tr>\n",
       "  </tbody>\n",
       "</table>\n",
       "</div>"
      ],
      "text/plain": [
       "              precision    recall  f1-score    support\n",
       "0              0.720000  0.367347  0.486486   49.00000\n",
       "1              0.947279  0.987589  0.967014  564.00000\n",
       "accuracy       0.938010  0.938010  0.938010    0.93801\n",
       "macro avg      0.833639  0.677468  0.726750  613.00000\n",
       "weighted avg   0.929111  0.938010  0.928603  613.00000"
      ]
     },
     "metadata": {},
     "output_type": "display_data"
    }
   ],
   "source": [
    "pipeline = Pipeline([('vectorizer', CountVectorizer()),\n",
    "                    ('rf', RandomForestClassifier())])\n",
    "params = {'vectorizer__max_features': [100, 500, 1000, 2000, None],\n",
    "          'vectorizer__min_df': range(1, 5),\n",
    "         'rf__n_estimators': [50, 100, 200]}\n",
    "\n",
    "#search = GridSearchCV(pipeline, params, cv=cv).fit(X_train, y_train.array)\n",
    "clf_rf_rating_optimal = search.best_estimator_\n",
    "rating_pred_rf_rating = clf_rf_rating_optimal.predict(X_test)\n",
    "y_pred_rf_rating = np.zeros_like(rating_pred_rf_rating)\n",
    "y_pred_rf_rating[rating_pred_rf_rating>2] = 1\n",
    "\n",
    "print(\"Confusion Matrix: \")\n",
    "print(confusion_matrix(y_test_fb, y_pred_rf_rating))\n",
    "print('='*60)\n",
    "\n",
    "print('Classification Report of SVC with balaned weight(reviews vs ratings):')\n",
    "display(pd.DataFrame(classification_report(y_test_fb, y_pred_rf_rating, output_dict=True)).T)"
   ]
  },
  {
   "cell_type": "markdown",
   "metadata": {},
   "source": [
    "This method has a better performance than any above algo discussed before."
   ]
  },
  {
   "cell_type": "markdown",
   "metadata": {},
   "source": [
    "# 6. Conclusion"
   ]
  },
  {
   "cell_type": "markdown",
   "metadata": {},
   "source": [
    "We've used four methods: RandomForest, NaiveBayes, SVC and Neural Network. We've found when we run classify the reviews using either 'feedback' or multi-label variable 'rating',  SVC(class_weight='balanced') gives a better performance"
   ]
  },
  {
   "cell_type": "markdown",
   "metadata": {},
   "source": [
    "# 7. Future Work"
   ]
  },
  {
   "cell_type": "markdown",
   "metadata": {},
   "source": [
    "In the future, we could also concentrate the imbalanced dataset problem. Since the number of negative feedbacks is much smaller than the number of positive feedbacks, we could do some preprocessing work like ReSampler or use the imbalanced ensemble algorithm. We could also change the score into the imbalanced score to give us a more accurate criteria.\n",
    "\n",
    "Furthermore, we could use an ensemble method which could combine some classification algos together. "
   ]
  },
  {
   "cell_type": "code",
   "execution_count": null,
   "metadata": {},
   "outputs": [],
   "source": []
  }
 ],
 "metadata": {
  "kernelspec": {
   "display_name": "Python 3",
   "language": "python",
   "name": "python3"
  },
  "language_info": {
   "codemirror_mode": {
    "name": "ipython",
    "version": 3
   },
   "file_extension": ".py",
   "mimetype": "text/x-python",
   "name": "python",
   "nbconvert_exporter": "python",
   "pygments_lexer": "ipython3",
   "version": "3.7.3"
  }
 },
 "nbformat": 4,
 "nbformat_minor": 4
}
